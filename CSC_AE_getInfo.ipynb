{
 "cells": [
  {
   "cell_type": "markdown",
   "id": "3b8f0958-42a3-47c6-aca0-0bec681ec1be",
   "metadata": {},
   "source": [
    "# Preparing Data 4 the AE"
   ]
  },
  {
   "cell_type": "markdown",
   "id": "2ce27c64-43a9-4acc-b502-cba9b078d1d1",
   "metadata": {},
   "source": [
    "### Import and function definition"
   ]
  },
  {
   "cell_type": "code",
   "execution_count": 1,
   "id": "66c1be37-a233-4292-9427-518f6e2c76cc",
   "metadata": {},
   "outputs": [],
   "source": [
    "import sys, os\n",
    "sys.path.append(os.path.abspath('./oms-api-client'))"
   ]
  },
  {
   "cell_type": "code",
   "execution_count": 2,
   "id": "34093352-7ac3-41af-8277-20e7ce6cdd4b",
   "metadata": {},
   "outputs": [],
   "source": [
    "import pandas as pd\n",
    "import numpy as np\n",
    "import timeit, math, copy, yaml, ast\n",
    "from omsapi import OMSAPI\n",
    "import matplotlib.pyplot as plt\n",
    "from scipy.stats import linregress\n",
    "from scipy.optimize import curve_fit\n",
    "import re\n",
    "from drawing_utilities import *\n",
    "#%load_ext memory_profiler"
   ]
  },
  {
   "cell_type": "code",
   "execution_count": 3,
   "id": "bba2fad6-480a-4f50-a4da-9d47751a9eb1",
   "metadata": {},
   "outputs": [
    {
     "name": "stdout",
     "output_type": "stream",
     "text": [
      "Defaulting to user installation because normal site-packages is not writeable\n",
      "Requirement already satisfied: runregistry in /eos/home-i03/m/mcrucian/.local/lib/python3.9/site-packages (1.2.1)\n",
      "Requirement already satisfied: requests in /cvmfs/sft.cern.ch/lcg/views/LCG_105a_cuda/x86_64-el9-gcc11-opt/lib/python3.9/site-packages (from runregistry) (2.31.0)\n",
      "Requirement already satisfied: cernrequests in /eos/home-i03/m/mcrucian/.local/lib/python3.9/site-packages (from runregistry) (0.5.0)\n",
      "Requirement already satisfied: python-dotenv in /eos/home-i03/m/mcrucian/.local/lib/python3.9/site-packages (from runregistry) (1.0.1)\n",
      "Requirement already satisfied: future in /cvmfs/sft.cern.ch/lcg/views/LCG_105a_cuda/x86_64-el9-gcc11-opt/lib/python3.9/site-packages (from cernrequests->runregistry) (0.18.3)\n",
      "Requirement already satisfied: pyjwt in /cvmfs/sft.cern.ch/lcg/views/LCG_105a_cuda/x86_64-el9-gcc11-opt/lib/python3.9/site-packages (from cernrequests->runregistry) (2.0.1)\n",
      "Requirement already satisfied: charset_normalizer<4,>=2 in /cvmfs/sft.cern.ch/lcg/views/LCG_105a_cuda/x86_64-el9-gcc11-opt/lib/python3.9/site-packages (from requests->runregistry) (2.0.6)\n",
      "Requirement already satisfied: idna<4,>=2.5 in /cvmfs/sft.cern.ch/lcg/views/LCG_105a_cuda/x86_64-el9-gcc11-opt/lib/python3.9/site-packages (from requests->runregistry) (3.2)\n",
      "Requirement already satisfied: urllib3<3,>=1.21.1 in /cvmfs/sft.cern.ch/lcg/views/LCG_105a_cuda/x86_64-el9-gcc11-opt/lib/python3.9/site-packages (from requests->runregistry) (1.26.16)\n",
      "Requirement already satisfied: certifi>=2017.4.17 in /cvmfs/sft.cern.ch/lcg/views/LCG_105a_cuda/x86_64-el9-gcc11-opt/lib/python3.9/site-packages (from requests->runregistry) (2022.12.7)\n",
      "\u001b[33mDEPRECATION: gosam 2.1.1-4b98559 has a non-standard version number. pip 24.0 will enforce this behaviour change. A possible replacement is to upgrade to a newer version of gosam or contact the author to suggest that they release a version with a conforming version number. Discussion can be found at https://github.com/pypa/pip/issues/12063\u001b[0m\u001b[33m\n",
      "\u001b[0m\u001b[33mDEPRECATION: professor2 X.Y.Z has a non-standard version number. pip 24.0 will enforce this behaviour change. A possible replacement is to upgrade to a newer version of professor2 or contact the author to suggest that they release a version with a conforming version number. Discussion can be found at https://github.com/pypa/pip/issues/12063\u001b[0m\u001b[33m\n",
      "\u001b[0m"
     ]
    }
   ],
   "source": [
    "try:\n",
    "    import runregistry\n",
    "except:\n",
    "    !pip install runregistry\n",
    "    #IMPORTANT: change this path based on the output of\n",
    "    #!pip show runregistry\n",
    "    sys.path.append('/eos/home-i03/m/mcrucian/.local/lib/python3.9/site-packages')\n",
    "    import runregistry"
   ]
  },
  {
   "cell_type": "markdown",
   "id": "e3c7e271-7d37-42dd-bbb0-6c540a1fd741",
   "metadata": {},
   "source": [
    "### Read data and add lumi info"
   ]
  },
  {
   "cell_type": "code",
   "execution_count": 4,
   "id": "a317fbaa",
   "metadata": {},
   "outputs": [
    {
     "name": "stdout",
     "output_type": "stream",
     "text": [
      "Available MEs in dir:\n",
      "hRHGlobalm2\n",
      "hRHGlobalm3\n",
      "hRHGlobalm4\n",
      "hRHGlobalp2\n",
      "hRHGlobalp3\n",
      "hRHGlobalp4\n"
     ]
    }
   ],
   "source": [
    "path = \"/eos/cms/store/group/ml/AD4MVDHackathon/ML4DQM_MUON/MEs\"\n",
    "dirs = os.listdir(path)\n",
    "\n",
    "# Regex pattern to capture the part up to the number\n",
    "pattern = r'hRHGlobal[mp]\\d+'\n",
    "\n",
    "unique_matches = sorted({match for dir_name in os.listdir(path) for match in re.findall(pattern, dir_name)})\n",
    "\n",
    "# Display the unique matches\n",
    "print(\"Available MEs in dir:\")\n",
    "print('\\n'.join(unique_matches))"
   ]
  },
  {
   "cell_type": "code",
   "execution_count": 7,
   "id": "d5255c68-9716-45b1-a5fd-ec96f3108d94",
   "metadata": {},
   "outputs": [
    {
     "name": "stdout",
     "output_type": "stream",
     "text": [
      "['/eos/cms/store/group/ml/AD4MVDHackathon/ML4DQM_MUON/MEs/hRHGlobalm2D', '/eos/cms/store/group/ml/AD4MVDHackathon/ML4DQM_MUON/MEs/hRHGlobalm2E', '/eos/cms/store/group/ml/AD4MVDHackathon/ML4DQM_MUON/MEs/hRHGlobalm2F', '/eos/cms/store/group/ml/AD4MVDHackathon/ML4DQM_MUON/MEs/hRHGlobalm2G']\n"
     ]
    }
   ],
   "source": [
    "out_label = \"180924\"\n",
    "me = \"hRHGlobalm2\"\n",
    "dirs = os.listdir(path)\n",
    "me_dirs = [os.path.join(path, i) for i in dirs if me in i and os.path.isdir(os.path.join(path, i))]\n",
    "print(me_dirs)"
   ]
  },
  {
   "cell_type": "code",
   "execution_count": 8,
   "id": "37e7205a-1967-464f-8c9e-b20f148511ca",
   "metadata": {},
   "outputs": [
    {
     "data": {
      "text/plain": [
       "['/eos/cms/store/group/ml/AD4MVDHackathon/ML4DQM_MUON/MEs/hRHGlobalm2D/CSC_CSCOfflineMonitor_recHits_hRHGlobalm2_None_380253_380287.parquet',\n",
       " '/eos/cms/store/group/ml/AD4MVDHackathon/ML4DQM_MUON/MEs/hRHGlobalm2D/CSC_CSCOfflineMonitor_recHits_hRHGlobalm2_None_380288_380322.parquet',\n",
       " '/eos/cms/store/group/ml/AD4MVDHackathon/ML4DQM_MUON/MEs/hRHGlobalm2D/CSC_CSCOfflineMonitor_recHits_hRHGlobalm2_None_380323_380357.parquet',\n",
       " '/eos/cms/store/group/ml/AD4MVDHackathon/ML4DQM_MUON/MEs/hRHGlobalm2D/CSC_CSCOfflineMonitor_recHits_hRHGlobalm2_None_380358_380392.parquet',\n",
       " '/eos/cms/store/group/ml/AD4MVDHackathon/ML4DQM_MUON/MEs/hRHGlobalm2D/CSC_CSCOfflineMonitor_recHits_hRHGlobalm2_None_380393_380427.parquet',\n",
       " '/eos/cms/store/group/ml/AD4MVDHackathon/ML4DQM_MUON/MEs/hRHGlobalm2D/CSC_CSCOfflineMonitor_recHits_hRHGlobalm2_None_380428_380462.parquet',\n",
       " '/eos/cms/store/group/ml/AD4MVDHackathon/ML4DQM_MUON/MEs/hRHGlobalm2D/CSC_CSCOfflineMonitor_recHits_hRHGlobalm2_None_380463_380497.parquet',\n",
       " '/eos/cms/store/group/ml/AD4MVDHackathon/ML4DQM_MUON/MEs/hRHGlobalm2D/CSC_CSCOfflineMonitor_recHits_hRHGlobalm2_None_380498_380532.parquet',\n",
       " '/eos/cms/store/group/ml/AD4MVDHackathon/ML4DQM_MUON/MEs/hRHGlobalm2D/CSC_CSCOfflineMonitor_recHits_hRHGlobalm2_None_380533_380567.parquet',\n",
       " '/eos/cms/store/group/ml/AD4MVDHackathon/ML4DQM_MUON/MEs/hRHGlobalm2D/CSC_CSCOfflineMonitor_recHits_hRHGlobalm2_None_380603_380637.parquet',\n",
       " '/eos/cms/store/group/ml/AD4MVDHackathon/ML4DQM_MUON/MEs/hRHGlobalm2D/CSC_CSCOfflineMonitor_recHits_hRHGlobalm2_None_380638_380672.parquet',\n",
       " '/eos/cms/store/group/ml/AD4MVDHackathon/ML4DQM_MUON/MEs/hRHGlobalm2D/CSC_CSCOfflineMonitor_recHits_hRHGlobalm2_None_380708_380742.parquet',\n",
       " '/eos/cms/store/group/ml/AD4MVDHackathon/ML4DQM_MUON/MEs/hRHGlobalm2D/CSC_CSCOfflineMonitor_recHits_hRHGlobalm2_None_380778_380812.parquet',\n",
       " '/eos/cms/store/group/ml/AD4MVDHackathon/ML4DQM_MUON/MEs/hRHGlobalm2D/CSC_CSCOfflineMonitor_recHits_hRHGlobalm2_None_380813_380847.parquet',\n",
       " '/eos/cms/store/group/ml/AD4MVDHackathon/ML4DQM_MUON/MEs/hRHGlobalm2D/CSC_CSCOfflineMonitor_recHits_hRHGlobalm2_None_380848_380882.parquet',\n",
       " '/eos/cms/store/group/ml/AD4MVDHackathon/ML4DQM_MUON/MEs/hRHGlobalm2D/CSC_CSCOfflineMonitor_recHits_hRHGlobalm2_None_380883_380917.parquet',\n",
       " '/eos/cms/store/group/ml/AD4MVDHackathon/ML4DQM_MUON/MEs/hRHGlobalm2D/CSC_CSCOfflineMonitor_recHits_hRHGlobalm2_None_380918_380947.parquet',\n",
       " '/eos/cms/store/group/ml/AD4MVDHackathon/ML4DQM_MUON/MEs/hRHGlobalm2E/CSC_CSCOfflineMonitor_recHits_hRHGlobalm2_None_380948_380997.parquet',\n",
       " '/eos/cms/store/group/ml/AD4MVDHackathon/ML4DQM_MUON/MEs/hRHGlobalm2E/CSC_CSCOfflineMonitor_recHits_hRHGlobalm2_None_380998_381047.parquet',\n",
       " '/eos/cms/store/group/ml/AD4MVDHackathon/ML4DQM_MUON/MEs/hRHGlobalm2E/CSC_CSCOfflineMonitor_recHits_hRHGlobalm2_None_381048_381097.parquet',\n",
       " '/eos/cms/store/group/ml/AD4MVDHackathon/ML4DQM_MUON/MEs/hRHGlobalm2E/CSC_CSCOfflineMonitor_recHits_hRHGlobalm2_None_381098_381147.parquet',\n",
       " '/eos/cms/store/group/ml/AD4MVDHackathon/ML4DQM_MUON/MEs/hRHGlobalm2E/CSC_CSCOfflineMonitor_recHits_hRHGlobalm2_None_381148_381197.parquet',\n",
       " '/eos/cms/store/group/ml/AD4MVDHackathon/ML4DQM_MUON/MEs/hRHGlobalm2E/CSC_CSCOfflineMonitor_recHits_hRHGlobalm2_None_381198_381247.parquet',\n",
       " '/eos/cms/store/group/ml/AD4MVDHackathon/ML4DQM_MUON/MEs/hRHGlobalm2E/CSC_CSCOfflineMonitor_recHits_hRHGlobalm2_None_381248_381297.parquet',\n",
       " '/eos/cms/store/group/ml/AD4MVDHackathon/ML4DQM_MUON/MEs/hRHGlobalm2E/CSC_CSCOfflineMonitor_recHits_hRHGlobalm2_None_381298_381347.parquet',\n",
       " '/eos/cms/store/group/ml/AD4MVDHackathon/ML4DQM_MUON/MEs/hRHGlobalm2E/CSC_CSCOfflineMonitor_recHits_hRHGlobalm2_None_381348_381397.parquet',\n",
       " '/eos/cms/store/group/ml/AD4MVDHackathon/ML4DQM_MUON/MEs/hRHGlobalm2E/CSC_CSCOfflineMonitor_recHits_hRHGlobalm2_None_381398_381447.parquet',\n",
       " '/eos/cms/store/group/ml/AD4MVDHackathon/ML4DQM_MUON/MEs/hRHGlobalm2E/CSC_CSCOfflineMonitor_recHits_hRHGlobalm2_None_381448_381497.parquet',\n",
       " '/eos/cms/store/group/ml/AD4MVDHackathon/ML4DQM_MUON/MEs/hRHGlobalm2E/CSC_CSCOfflineMonitor_recHits_hRHGlobalm2_None_381498_381547.parquet',\n",
       " '/eos/cms/store/group/ml/AD4MVDHackathon/ML4DQM_MUON/MEs/hRHGlobalm2E/CSC_CSCOfflineMonitor_recHits_hRHGlobalm2_None_381548_381597.parquet',\n",
       " '/eos/cms/store/group/ml/AD4MVDHackathon/ML4DQM_MUON/MEs/hRHGlobalm2F/CSC_CSCOfflineMonitor_recHits_hRHGlobalm2_None_381944_382035.parquet',\n",
       " '/eos/cms/store/group/ml/AD4MVDHackathon/ML4DQM_MUON/MEs/hRHGlobalm2F/CSC_CSCOfflineMonitor_recHits_hRHGlobalm2_None_382036_382127.parquet',\n",
       " '/eos/cms/store/group/ml/AD4MVDHackathon/ML4DQM_MUON/MEs/hRHGlobalm2F/CSC_CSCOfflineMonitor_recHits_hRHGlobalm2_None_382128_382219.parquet',\n",
       " '/eos/cms/store/group/ml/AD4MVDHackathon/ML4DQM_MUON/MEs/hRHGlobalm2F/CSC_CSCOfflineMonitor_recHits_hRHGlobalm2_None_382220_382311.parquet',\n",
       " '/eos/cms/store/group/ml/AD4MVDHackathon/ML4DQM_MUON/MEs/hRHGlobalm2F/CSC_CSCOfflineMonitor_recHits_hRHGlobalm2_None_382312_382403.parquet',\n",
       " '/eos/cms/store/group/ml/AD4MVDHackathon/ML4DQM_MUON/MEs/hRHGlobalm2F/CSC_CSCOfflineMonitor_recHits_hRHGlobalm2_None_382404_382495.parquet',\n",
       " '/eos/cms/store/group/ml/AD4MVDHackathon/ML4DQM_MUON/MEs/hRHGlobalm2F/CSC_CSCOfflineMonitor_recHits_hRHGlobalm2_None_382496_382587.parquet',\n",
       " '/eos/cms/store/group/ml/AD4MVDHackathon/ML4DQM_MUON/MEs/hRHGlobalm2F/CSC_CSCOfflineMonitor_recHits_hRHGlobalm2_None_382588_382679.parquet',\n",
       " '/eos/cms/store/group/ml/AD4MVDHackathon/ML4DQM_MUON/MEs/hRHGlobalm2F/CSC_CSCOfflineMonitor_recHits_hRHGlobalm2_None_382680_382771.parquet',\n",
       " '/eos/cms/store/group/ml/AD4MVDHackathon/ML4DQM_MUON/MEs/hRHGlobalm2F/CSC_CSCOfflineMonitor_recHits_hRHGlobalm2_None_382772_382863.parquet',\n",
       " '/eos/cms/store/group/ml/AD4MVDHackathon/ML4DQM_MUON/MEs/hRHGlobalm2F/CSC_CSCOfflineMonitor_recHits_hRHGlobalm2_None_382864_382955.parquet',\n",
       " '/eos/cms/store/group/ml/AD4MVDHackathon/ML4DQM_MUON/MEs/hRHGlobalm2F/CSC_CSCOfflineMonitor_recHits_hRHGlobalm2_None_382956_383047.parquet',\n",
       " '/eos/cms/store/group/ml/AD4MVDHackathon/ML4DQM_MUON/MEs/hRHGlobalm2F/CSC_CSCOfflineMonitor_recHits_hRHGlobalm2_None_383048_383139.parquet',\n",
       " '/eos/cms/store/group/ml/AD4MVDHackathon/ML4DQM_MUON/MEs/hRHGlobalm2F/CSC_CSCOfflineMonitor_recHits_hRHGlobalm2_None_383140_383231.parquet',\n",
       " '/eos/cms/store/group/ml/AD4MVDHackathon/ML4DQM_MUON/MEs/hRHGlobalm2F/CSC_CSCOfflineMonitor_recHits_hRHGlobalm2_None_383232_383323.parquet',\n",
       " '/eos/cms/store/group/ml/AD4MVDHackathon/ML4DQM_MUON/MEs/hRHGlobalm2F/CSC_CSCOfflineMonitor_recHits_hRHGlobalm2_None_383324_383415.parquet',\n",
       " '/eos/cms/store/group/ml/AD4MVDHackathon/ML4DQM_MUON/MEs/hRHGlobalm2F/CSC_CSCOfflineMonitor_recHits_hRHGlobalm2_None_383416_383507.parquet',\n",
       " '/eos/cms/store/group/ml/AD4MVDHackathon/ML4DQM_MUON/MEs/hRHGlobalm2F/CSC_CSCOfflineMonitor_recHits_hRHGlobalm2_None_383508_383599.parquet',\n",
       " '/eos/cms/store/group/ml/AD4MVDHackathon/ML4DQM_MUON/MEs/hRHGlobalm2F/CSC_CSCOfflineMonitor_recHits_hRHGlobalm2_None_383600_383691.parquet',\n",
       " '/eos/cms/store/group/ml/AD4MVDHackathon/ML4DQM_MUON/MEs/hRHGlobalm2F/CSC_CSCOfflineMonitor_recHits_hRHGlobalm2_None_383692_383779.parquet',\n",
       " '/eos/cms/store/group/ml/AD4MVDHackathon/ML4DQM_MUON/MEs/hRHGlobalm2G/CSC_CSCOfflineMonitor_recHits_hRHGlobalm2_None_383805_383829.parquet',\n",
       " '/eos/cms/store/group/ml/AD4MVDHackathon/ML4DQM_MUON/MEs/hRHGlobalm2G/CSC_CSCOfflineMonitor_recHits_hRHGlobalm2_None_383830_383854.parquet',\n",
       " '/eos/cms/store/group/ml/AD4MVDHackathon/ML4DQM_MUON/MEs/hRHGlobalm2G/CSC_CSCOfflineMonitor_recHits_hRHGlobalm2_None_383855_383879.parquet',\n",
       " '/eos/cms/store/group/ml/AD4MVDHackathon/ML4DQM_MUON/MEs/hRHGlobalm2G/CSC_CSCOfflineMonitor_recHits_hRHGlobalm2_None_383880_383904.parquet',\n",
       " '/eos/cms/store/group/ml/AD4MVDHackathon/ML4DQM_MUON/MEs/hRHGlobalm2G/CSC_CSCOfflineMonitor_recHits_hRHGlobalm2_None_383905_383929.parquet',\n",
       " '/eos/cms/store/group/ml/AD4MVDHackathon/ML4DQM_MUON/MEs/hRHGlobalm2G/CSC_CSCOfflineMonitor_recHits_hRHGlobalm2_None_383930_383954.parquet',\n",
       " '/eos/cms/store/group/ml/AD4MVDHackathon/ML4DQM_MUON/MEs/hRHGlobalm2G/CSC_CSCOfflineMonitor_recHits_hRHGlobalm2_None_383980_384004.parquet',\n",
       " '/eos/cms/store/group/ml/AD4MVDHackathon/ML4DQM_MUON/MEs/hRHGlobalm2G/CSC_CSCOfflineMonitor_recHits_hRHGlobalm2_None_384005_384029.parquet',\n",
       " '/eos/cms/store/group/ml/AD4MVDHackathon/ML4DQM_MUON/MEs/hRHGlobalm2G/CSC_CSCOfflineMonitor_recHits_hRHGlobalm2_None_384030_384054.parquet',\n",
       " '/eos/cms/store/group/ml/AD4MVDHackathon/ML4DQM_MUON/MEs/hRHGlobalm2G/CSC_CSCOfflineMonitor_recHits_hRHGlobalm2_None_384055_384079.parquet',\n",
       " '/eos/cms/store/group/ml/AD4MVDHackathon/ML4DQM_MUON/MEs/hRHGlobalm2G/CSC_CSCOfflineMonitor_recHits_hRHGlobalm2_None_384105_384129.parquet',\n",
       " '/eos/cms/store/group/ml/AD4MVDHackathon/ML4DQM_MUON/MEs/hRHGlobalm2G/CSC_CSCOfflineMonitor_recHits_hRHGlobalm2_None_384180_384204.parquet',\n",
       " '/eos/cms/store/group/ml/AD4MVDHackathon/ML4DQM_MUON/MEs/hRHGlobalm2G/CSC_CSCOfflineMonitor_recHits_hRHGlobalm2_None_384205_384229.parquet',\n",
       " '/eos/cms/store/group/ml/AD4MVDHackathon/ML4DQM_MUON/MEs/hRHGlobalm2G/CSC_CSCOfflineMonitor_recHits_hRHGlobalm2_None_384230_384254.parquet',\n",
       " '/eos/cms/store/group/ml/AD4MVDHackathon/ML4DQM_MUON/MEs/hRHGlobalm2G/CSC_CSCOfflineMonitor_recHits_hRHGlobalm2_None_384255_384277.parquet']"
      ]
     },
     "execution_count": 8,
     "metadata": {},
     "output_type": "execute_result"
    }
   ],
   "source": [
    "files_all = []\n",
    "for dir in me_dirs:\n",
    "    files = os.listdir(dir)\n",
    "    me_files = [dir+\"/\"+i for i in files if me in i]\n",
    "    files_all = files_all + me_files\n",
    "filtered_files = [file for file in files_all if os.path.exists(file) and os.path.getsize(file) >= 601]\n",
    "filtered_files"
   ]
  },
  {
   "cell_type": "code",
   "execution_count": null,
   "id": "e439b046-fa57-4012-81f8-9f8433a30899",
   "metadata": {},
   "outputs": [],
   "source": [
    "%%time\n",
    "#monitoring_elements =pl.read_parquet(filtered_files).filter((pl.col('dataset').str.contains(\"StreamExpress\"))).to_pandas()\n",
    "monitoring_elements = pd.read_parquet(filtered_files)\n",
    "monitoring_elements = monitoring_elements[monitoring_elements['dataset'].str.contains(\"StreamExpress\")]"
   ]
  },
  {
   "cell_type": "code",
   "execution_count": null,
   "id": "f6556cee-c2b4-4dd1-844c-e12788300865",
   "metadata": {
    "scrolled": true
   },
   "outputs": [],
   "source": [
    "monitoring_elements"
   ]
  },
  {
   "cell_type": "code",
   "execution_count": null,
   "id": "a3a9bf94-1e75-40a3-b4a0-0af586ca55fc",
   "metadata": {},
   "outputs": [],
   "source": [
    "dataset = monitoring_elements[\"dataset\"].unique()\n",
    "print(dataset)"
   ]
  },
  {
   "cell_type": "code",
   "execution_count": null,
   "id": "8575f83a-673d-4f7f-9c22-423dfd6d1e58",
   "metadata": {},
   "outputs": [],
   "source": [
    "run_list = np.sort(np.unique(monitoring_elements[\"run_number\"].unique()))\n",
    "print(run_list)"
   ]
  },
  {
   "cell_type": "code",
   "execution_count": null,
   "id": "b5a74e6e-ccd8-4d7e-bd8d-9f133c388bf9",
   "metadata": {
    "scrolled": true
   },
   "outputs": [],
   "source": [
    "#if you get errors here, go through the readme and look for the instructions on how to get runregistry credentials\n",
    "runreg_df = pd.DataFrame(columns=[\"run_number\", \"cscGOOD\", \"cscSTANDBY\", \"cscBAD\", \"cscEMPTY\"])\n",
    "bad_runs = []\n",
    "for r in run_list:\n",
    "    run = runregistry.get_run(run_number=int(r))\n",
    "    try:\n",
    "        dict = {\"run_number\": int(r), \"class\": run[\"class\"], \"cscGOOD\": 0, \"cscSTANDBY\":0, \"cscBAD\":0, \"cscEMPTY\":0}\n",
    "        if 'csc-csc' in run[\"lumisections\"]:\n",
    "            #print(\"Run :\", r)\n",
    "            data_dict = run[\"lumisections\"][\"csc-csc\"]\n",
    "            for key in data_dict.keys():\n",
    "                if key == \"GOOD\":\n",
    "                    dict[\"cscGOOD\"] = data_dict[\"GOOD\"]\n",
    "                if key == \"STANDBY\":\n",
    "                    dict[\"cscSTANDBY\"] = data_dict[\"STANDBY\"]\n",
    "                if key == \"BAD\":\n",
    "                    dict[\"cscBAD\"] = data_dict[\"BAD\"]\n",
    "                if key == \"EMPTY\":\n",
    "                    dict[\"cscEMPTY\"] = data_dict[\"EMPTY\"]\n",
    "            del data_dict\n",
    "        runreg_df = pd.concat([runreg_df, pd.DataFrame([dict])], ignore_index=True)\n",
    "    except:\n",
    "        dict = {\"run_number\": int(r), \"class\": \"BAD\", \"cscGOOD\": 0, \"cscSTANDBY\":0, \"cscBAD\":0, \"cscEMPTY\":0}\n",
    "    if (\"Collisions\" not in dict[\"class\"]) or dict[\"cscSTANDBY\"]!=0 or dict[\"cscBAD\"]!=0 or dict[\"cscGOOD\"]==0:\n",
    "        print(\"Run :\", r, \"--> BAD\")\n",
    "        bad_runs.append(int(r))\n",
    "    else:\n",
    "        print(\"Run :\", r, \"--> GOOD\")\n",
    "    print(dict)\n",
    "    del dict\n",
    "    del run"
   ]
  },
  {
   "cell_type": "code",
   "execution_count": null,
   "id": "2466a3e9-4056-4f0a-bc9a-e35f4e288b95",
   "metadata": {},
   "outputs": [],
   "source": [
    "print(bad_runs)"
   ]
  },
  {
   "cell_type": "code",
   "execution_count": null,
   "id": "529f9f17-cd74-4458-a2d5-b3d2c7d33e26",
   "metadata": {},
   "outputs": [],
   "source": [
    "monitoring_elements = monitoring_elements[~monitoring_elements['run_number'].isin(bad_runs)]"
   ]
  },
  {
   "cell_type": "code",
   "execution_count": null,
   "id": "6ef2b1e7-2326-4c7c-8852-0628c153235d",
   "metadata": {},
   "outputs": [],
   "source": [
    "run_list = np.sort(np.unique(monitoring_elements[\"run_number\"].unique()))\n",
    "print(run_list)"
   ]
  },
  {
   "cell_type": "code",
   "execution_count": null,
   "id": "570892b7-5b0d-4048-9785-05354aa6d7de",
   "metadata": {},
   "outputs": [],
   "source": [
    "with open(\"config.yaml\", 'r') as f:\n",
    "    try:\n",
    "        info = yaml.safe_load(f)\n",
    "    except yaml.YAMLError as exc:\n",
    "        print(f\"Cannot read the file: {exc}\")"
   ]
  },
  {
   "cell_type": "code",
   "execution_count": null,
   "id": "e212812e-bdf0-4383-bf58-bfe88a6153af",
   "metadata": {},
   "outputs": [],
   "source": [
    "omsapi = OMSAPI(\"https://cmsoms.cern.ch/agg/api\", \"v1\", cert_verify=False)\n",
    "omsapi.auth_oidc(info[\"APIClient\"][\"client_ID\"], info[\"APIClient\"][\"Client_Secret\"])"
   ]
  },
  {
   "cell_type": "code",
   "execution_count": null,
   "id": "b98943f7-c541-4a17-9ca4-b1f7927477ac",
   "metadata": {
    "scrolled": true
   },
   "outputs": [],
   "source": [
    "lumi_dfs = []\n",
    "for r in run_list:\n",
    "    print(\"Run :\", r)\n",
    "    df = []\n",
    "    ls_query = omsapi.query(\"lumisections\")\n",
    "    ls_query.filter(\"run_number\", r)\n",
    "    ls_query.sort(\"lumisection_number\", asc=False).paginate(page=1, per_page=100000)\n",
    "    response = ls_query.data().json()[\"data\"];\n",
    "    for i in range(len(response)):\n",
    "        df.append(response[i][\"attributes\"])\n",
    "    lumi_dfs.append(pd.DataFrame(df)) # Downcasting object dtype arrays on .fillna is deprecated\n",
    "    del df\n",
    "    del response\n",
    "    del ls_query"
   ]
  },
  {
   "cell_type": "code",
   "execution_count": null,
   "id": "77e8de10-2914-47df-be89-735ac4f89ce3",
   "metadata": {},
   "outputs": [],
   "source": [
    "for i in range(len(lumi_dfs)):\n",
    "    lumi_dfs[i]['castor_ready'] = lumi_dfs[i]['castor_ready'].fillna(False)\n",
    "    lumi_dfs[i]['gem_ready'] = lumi_dfs[i]['gem_ready'].fillna(False)\n",
    "    lumi_dfs[i]['zdc_ready'] = lumi_dfs[i]['zdc_ready'].fillna(False)\n",
    "    lumi_dfs[i]['prescale_index'] = lumi_dfs[i]['prescale_index'].fillna(-1)\n",
    "    lumi_dfs[i]['prescale_name'] = lumi_dfs[i]['prescale_name'].fillna(\"\")"
   ]
  },
  {
   "cell_type": "code",
   "execution_count": null,
   "id": "f5215209-5c79-450c-ac32-dfac0a865865",
   "metadata": {},
   "outputs": [],
   "source": [
    "lumi_info = pd.concat(lumi_dfs)"
   ]
  },
  {
   "cell_type": "code",
   "execution_count": null,
   "id": "96b84c79-7c3e-44d3-81bd-365e49522ebe",
   "metadata": {},
   "outputs": [],
   "source": [
    "lumi_info = lumi_info.rename(columns={'lumisection_number': 'ls_number'})\n",
    "lumi_info[\"mean_lumi\"]=(lumi_info[\"init_lumi\"]+lumi_info[\"end_lumi\"])/2"
   ]
  },
  {
   "cell_type": "code",
   "execution_count": null,
   "id": "23e41e68-4745-4818-81a7-6bd46449ba21",
   "metadata": {},
   "outputs": [],
   "source": [
    "print(lumi_info.columns)"
   ]
  },
  {
   "cell_type": "code",
   "execution_count": null,
   "id": "e0ccc9ae-e589-4e2a-a8a8-3d3f0d646694",
   "metadata": {},
   "outputs": [],
   "source": [
    "monitoring_elements = pd.merge(monitoring_elements, lumi_info, on=['run_number', 'ls_number'], how='left') "
   ]
  },
  {
   "cell_type": "code",
   "execution_count": null,
   "id": "9991dced-6ac9-47be-8806-25ba53281f05",
   "metadata": {},
   "outputs": [],
   "source": [
    "#%memit"
   ]
  },
  {
   "cell_type": "code",
   "execution_count": null,
   "id": "0f1b39ce-d891-48fd-b03d-7734f4989a4b",
   "metadata": {},
   "outputs": [],
   "source": [
    "monitoring_elements = monitoring_elements[(monitoring_elements[\"beams_stable\"]==True) & (monitoring_elements[\"cscm_ready\"]==True) & (monitoring_elements[\"cms_active\"]==True) & (monitoring_elements[\"beam_present\"]==True) & (monitoring_elements[\"physics_flag\"]==True)]\n"
   ]
  },
  {
   "cell_type": "code",
   "execution_count": null,
   "id": "e62ceed1-6c61-414e-973f-22a08f3afde8",
   "metadata": {},
   "outputs": [],
   "source": [
    "monitoring_elements = monitoring_elements.sort_values(by=['run_number', 'ls_number']).reset_index()\n",
    "monitoring_elements = monitoring_elements.drop(columns=[\"index\"])"
   ]
  },
  {
   "cell_type": "code",
   "execution_count": null,
   "id": "6842c534-cc67-4af3-9a45-bd41618ea7a4",
   "metadata": {},
   "outputs": [],
   "source": [
    "monitoring_elements"
   ]
  },
  {
   "cell_type": "code",
   "execution_count": null,
   "id": "9433a5ce-6af3-4b11-8165-5a87311c4e7d",
   "metadata": {},
   "outputs": [],
   "source": [
    "monitoring_elements.to_parquet(me+'_'+out_label+'_s0.parquet', index=False)"
   ]
  }
 ],
 "metadata": {
  "kernelspec": {
   "display_name": "Python 3",
   "language": "python",
   "name": "python3"
  },
  "language_info": {
   "codemirror_mode": {
    "name": "ipython",
    "version": 3
   },
   "file_extension": ".py",
   "mimetype": "text/x-python",
   "name": "python",
   "nbconvert_exporter": "python",
   "pygments_lexer": "ipython3",
   "version": "3.9.12"
  }
 },
 "nbformat": 4,
 "nbformat_minor": 5
}
