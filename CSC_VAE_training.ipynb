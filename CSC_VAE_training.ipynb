{
 "cells": [
  {
   "cell_type": "code",
   "execution_count": null,
   "metadata": {},
   "outputs": [],
   "source": [
    "from rebinning import station_radii, draw_wheels, make_concentric_disks, make_disk, station3_boundaries, rebin\n",
    "from utilities import Show2Dimg\n",
    "import numpy as np\n",
    "import pandas as pd\n",
    "import numpy as np\n",
    "import time\n",
    "import matplotlib.pyplot as plt\n",
    "import torch\n",
    "import torch.nn as nn\n",
    "import torch.nn.functional as F\n",
    "import torch.optim as optim\n",
    "from torch.utils.data import DataLoader\n",
    "\n",
    "from utilities import *\n",
    "from ResNet_VAE import ResNetVAE\n",
    "device = torch.device('cuda' if torch.cuda.is_available() else 'cpu')\n",
    "print(\"You are using:\", device)"
   ]
  },
  {
   "cell_type": "markdown",
   "metadata": {},
   "source": [
    "### Load the images and apply rebinning"
   ]
  },
  {
   "cell_type": "code",
   "execution_count": null,
   "metadata": {},
   "outputs": [],
   "source": [
    "dir = \"/eos/cms/store/group/ml/AD4MVDHackathon/ML4DQM_MUON/anomalies/\"\n",
    "file = \"hRHGlobalm2_300724_s3_bad.npz\"\n",
    "data = np.load(dir+file)\n",
    "imgs = data['imgs']"
   ]
  },
  {
   "cell_type": "code",
   "execution_count": null,
   "metadata": {},
   "outputs": [],
   "source": [
    "#hole to mask the non-relevant inner and outer parts\n",
    "empty_img = np.zeros((100,100), dtype=np.int16)\n",
    "#station3 boundaries are good for station2 as well\n",
    "inner_radius, outer_radius = station3_boundaries()\n",
    "hole = make_disk(empty_img, inner_radius-1.5,1.)\n",
    "hole = np.abs(hole-1)\n",
    "hole *= make_disk(empty_img, outer_radius,1.)"
   ]
  },
  {
   "cell_type": "markdown",
   "metadata": {},
   "source": [
    "##### Example: image without/with hole"
   ]
  },
  {
   "cell_type": "code",
   "execution_count": null,
   "metadata": {},
   "outputs": [],
   "source": [
    "Show2Dimg(imgs[0], title=\"Original\")\n",
    "Show2Dimg(imgs[0]*hole, title=\"Masked\")"
   ]
  },
  {
   "cell_type": "code",
   "execution_count": null,
   "metadata": {},
   "outputs": [],
   "source": [
    "slices = draw_wheels(50,3)\n",
    "conc_disks = make_concentric_disks(50,station_radii(2))\n",
    "regions = slices * conc_disks * hole"
   ]
  },
  {
   "cell_type": "markdown",
   "metadata": {},
   "source": [
    "#### rebin images"
   ]
  },
  {
   "cell_type": "code",
   "execution_count": null,
   "metadata": {},
   "outputs": [],
   "source": [
    "rebinned_imgs = np.array([rebin(regions, img) for img in imgs])\n"
   ]
  },
  {
   "cell_type": "markdown",
   "metadata": {},
   "source": [
    "##### Mean Matrix"
   ]
  },
  {
   "cell_type": "code",
   "execution_count": null,
   "metadata": {},
   "outputs": [],
   "source": [
    "mean_matrix = np.mean(rebinned_imgs, axis=0)\n",
    "Show2Dimg(mean_matrix)\n",
    "mean_matrix[mean_matrix == 0] = np.nan"
   ]
  },
  {
   "cell_type": "markdown",
   "metadata": {},
   "source": [
    "#### data agumentation "
   ]
  },
  {
   "cell_type": "code",
   "execution_count": null,
   "metadata": {},
   "outputs": [],
   "source": [
    "selected_chamber = []\n",
    "\n",
    "for image in rebinned_imgs:\n",
    "    selected_chamber.append(image)  # original image\n",
    "    for _ in range(3):  # 3 rotations of 90 degrees\n",
    "        image = np.rot90(image)\n",
    "        selected_chamber.append(image)\n",
    "\n",
    "selected_chamber = np.array(selected_chamber)"
   ]
  },
  {
   "cell_type": "markdown",
   "metadata": {},
   "source": [
    "##### see an example of data augmentation"
   ]
  },
  {
   "cell_type": "code",
   "execution_count": null,
   "metadata": {},
   "outputs": [],
   "source": [
    "#index should be a multiple of 4, e.g. 0, 4, 8\n",
    "index = 0\n",
    "index = index - index % 4\n",
    "Show2Dimg(selected_chamber[index], title=\"First image\")\n",
    "Show2Dimg(selected_chamber[index+1], title=\"Rotated by 90 degrees\")\n",
    "Show2Dimg(selected_chamber[index+2], title=\"Rotated by 180 degrees\")\n",
    "Show2Dimg(selected_chamber[index+3], title=\"Rotated by 270 degrees\")"
   ]
  },
  {
   "cell_type": "markdown",
   "metadata": {},
   "source": [
    "#### Normalization: (I have no idea why but without this it all breaks)"
   ]
  },
  {
   "cell_type": "code",
   "execution_count": null,
   "metadata": {},
   "outputs": [],
   "source": [
    "norm = 0.01\n",
    "for img in selected_chamber:\n",
    "    img *= norm"
   ]
  },
  {
   "cell_type": "markdown",
   "metadata": {},
   "source": [
    "### Training the VAE"
   ]
  },
  {
   "cell_type": "code",
   "execution_count": null,
   "metadata": {},
   "outputs": [],
   "source": [
    "training_tensor = [\n",
    "    (torch.tensor(m, dtype=torch.float32)).unsqueeze(0) for m in selected_chamber\n",
    "]\n",
    "print(f\"Total images used for training: {len(training_tensor)}\")\n",
    "\n",
    "training_loader = DataLoader(\n",
    "    dataset=training_tensor, batch_size=64, num_workers=10, shuffle=True\n",
    ")"
   ]
  },
  {
   "cell_type": "code",
   "execution_count": null,
   "metadata": {},
   "outputs": [],
   "source": [
    "def VAE_loss (Xreco, X, mean, logvar, beta):\n",
    "    # Reconstruction loss\n",
    "    recon_loss = F.l1_loss(Xreco, X)\n",
    "    # KL divergence loss\n",
    "    kl_loss = -0.5 * torch.sum(1 + logvar - mean.pow(2) - logvar.exp())\n",
    "\n",
    "    return recon_loss + beta * kl_loss, recon_loss, kl_loss"
   ]
  },
  {
   "cell_type": "markdown",
   "metadata": {},
   "source": [
    "#### $\\beta$ annealing"
   ]
  },
  {
   "cell_type": "code",
   "execution_count": null,
   "metadata": {},
   "outputs": [],
   "source": [
    "import numpy as np\n",
    "import matplotlib.pyplot as plt\n",
    "\n",
    "\n",
    "def generate_betas(low_value, max_value, cycles, epochs):\n",
    "    cycle_length = epochs // cycles\n",
    "    third_cycle = cycle_length // 3\n",
    "\n",
    "    # Generate linear rise for first third of the cycle\n",
    "    first_third = np.linspace(low_value, max_value, third_cycle)\n",
    "\n",
    "    # Generate constant high value for second third of the cycle\n",
    "    second_third = np.full(third_cycle, max_value)\n",
    "\n",
    "    # Generate constant low value for last third of the cycle\n",
    "    last_third = np.full(third_cycle, low_value)\n",
    "\n",
    "    # Combine to form a complete cycle and repeat\n",
    "    cycle = np.concatenate((first_third, second_third, last_third))\n",
    "    betas = np.tile(cycle, cycles)\n",
    "\n",
    "    # If the length of betas is less than epochs, append additional low values\n",
    "    if len(betas) < epochs:\n",
    "        extra_values = np.full(epochs - len(betas), low_value)\n",
    "        betas = np.concatenate((betas, extra_values))\n",
    "\n",
    "    return betas\n",
    "\n",
    "\n",
    "epochs = 30\n",
    "\n",
    "# Define the parameters\n",
    "low_value = 1e-10\n",
    "max_value = 1\n",
    "cycles = 3\n",
    "\n",
    "betas = generate_betas(low_value, max_value, cycles, epochs)\n",
    "plt.plot(betas)"
   ]
  },
  {
   "cell_type": "code",
   "execution_count": null,
   "metadata": {},
   "outputs": [],
   "source": [
    "from torch.optim.lr_scheduler import ReduceLROnPlateau\n",
    "\n",
    "# Constants\n",
    "LR = 1.e-5\n",
    "FACTOR = 0.1\n",
    "PATIENCE = 2\n",
    "THRESHOLD = 0.05\n",
    "VERBOSE = True\n",
    "BATCH_PRINT_INTERVAL = 38\n",
    "\n",
    "# Initialize the model, optimizer and scheduler\n",
    "img_size = list(training_tensor[0].squeeze(0).size())\n",
    "ae = ResNetVAE(1, 3, [2**x for x in [5,6,7,8]], img_size=img_size, device=device, latent_size=2).to(device)\n",
    "optimizer = optim.Adam(ae.parameters(), lr=LR)\n",
    "scheduler = ReduceLROnPlateau(optimizer, mode='min', factor=FACTOR, patience=PATIENCE, threshold=THRESHOLD, verbose=VERBOSE)\n",
    "\n",
    "train_loss, val_loss =[], []\n",
    "\n",
    "def train_model(epoch, training_loader):\n",
    "    print(f'***** Training Epoch {epoch} *****')\n",
    "    ae.train()\n",
    "    now = time.time()\n",
    "    tloss=[]\n",
    "    for i, figure in enumerate(training_loader):\n",
    "        X = figure.to(device)\n",
    "        optimizer.zero_grad()\n",
    "        Xreco, mean, logvar = ae(X)\n",
    "        beta=betas[epoch-1]\n",
    "        loss, l1_loss, kl_loss = VAE_loss(Xreco, X, mean, logvar, beta)\n",
    "        tloss.append(loss.item())\n",
    "        loss.backward()\n",
    "        optimizer.step()\n",
    "        if i % BATCH_PRINT_INTERVAL == 0:\n",
    "            print(f'>> [{i}/{len(training_loader)}] Train loss:{loss.item()}')\n",
    "            print(f'>> L1 loss:{l1_loss.item()} | KL loss:{kl_loss.item()}')\n",
    "    train_loss.append(np.mean(tloss))\n",
    "    now = time.time() - now\n",
    "    s = '>> Training time: %.2f min in %d steps'%( now/60, len(training_loader))\n",
    "    print(s)\n",
    "    scheduler.step(np.mean(tloss))\n",
    "\n",
    "# Training loop\n",
    "for e in range(epochs):\n",
    "    train_model(e+1, training_loader)"
   ]
  },
  {
   "cell_type": "code",
   "execution_count": null,
   "metadata": {},
   "outputs": [],
   "source": [
    "for i, img in enumerate(training_loader):\n",
    "    img = img.to(device)\n",
    "    reco_img, mean, logvar = ae(img)\n",
    "    print(f\"***** batch {i} *****\")\n",
    "    for k in range(4):\n",
    "        print(f\" >> Example {k}\")\n",
    "        Show2Dimg(img[k][0].cpu().numpy(), title=\"Original\")\n",
    "        mean_norm = np.linalg.norm(mean[k].detach().cpu().numpy())\n",
    "        logvar_norm = np.linalg.norm(logvar[k].detach().cpu().numpy())\n",
    "        print(f\"mean norm: {mean_norm:.2f} | logvar norm: {logvar_norm:.2f}\")\n",
    "        Show2Dimg(reco_img[k][0].detach().cpu().numpy(), title=f\"Reconstructed\")\n",
    "    if i > 5: \n",
    "        break"
   ]
  },
  {
   "cell_type": "code",
   "execution_count": null,
   "metadata": {},
   "outputs": [],
   "source": []
  }
 ],
 "metadata": {
  "@webio": {
   "lastCommId": null,
   "lastKernelId": null
  },
  "kernelspec": {
   "display_name": "Python 3",
   "language": "python",
   "name": "python3"
  },
  "language_info": {
   "codemirror_mode": {
    "name": "ipython",
    "version": 3
   },
   "file_extension": ".py",
   "mimetype": "text/x-python",
   "name": "python",
   "nbconvert_exporter": "python",
   "pygments_lexer": "ipython3",
   "version": "3.9.12"
  }
 },
 "nbformat": 4,
 "nbformat_minor": 2
}
